{
  "cells": [
    {
      "cell_type": "markdown",
      "source": [
        "### Setting up the environment and downloading the dataset"
      ],
      "metadata": {
        "id": "Xid4LRwOqadD"
      }
    },
    {
      "cell_type": "code",
      "source": [
        "!pip install mlend==1.0.0.4\n",
        "# 2. Import library and functions\n",
        "import mlend\n",
        "from mlend import download_deception_small, deception_small_load\n",
        "\n",
        "# 3. Download small data\n",
        "datadir = download_deception_small(save_to='MLEnd', subset={}, verbose=1, overwrite=False)"
      ],
      "metadata": {
        "colab": {
          "base_uri": "https://localhost:8080/"
        },
        "id": "U5uLZyPwqjhm",
        "outputId": "761ef324-2c56-40c5-9de5-b4e0f9fde3a3"
      },
      "execution_count": 384,
      "outputs": [
        {
          "output_type": "stream",
          "name": "stdout",
          "text": [
            "Requirement already satisfied: mlend==1.0.0.4 in /usr/local/lib/python3.10/dist-packages (1.0.0.4)\n",
            "Requirement already satisfied: numpy<2.0 in /usr/local/lib/python3.10/dist-packages (from mlend==1.0.0.4) (1.26.4)\n",
            "Requirement already satisfied: pandas in /usr/local/lib/python3.10/dist-packages (from mlend==1.0.0.4) (2.2.2)\n",
            "Requirement already satisfied: scipy in /usr/local/lib/python3.10/dist-packages (from mlend==1.0.0.4) (1.13.1)\n",
            "Requirement already satisfied: matplotlib in /usr/local/lib/python3.10/dist-packages (from mlend==1.0.0.4) (3.8.0)\n",
            "Requirement already satisfied: joblib in /usr/local/lib/python3.10/dist-packages (from mlend==1.0.0.4) (1.4.2)\n",
            "Requirement already satisfied: spkit in /usr/local/lib/python3.10/dist-packages (from mlend==1.0.0.4) (0.0.9.7)\n",
            "Requirement already satisfied: contourpy>=1.0.1 in /usr/local/lib/python3.10/dist-packages (from matplotlib->mlend==1.0.0.4) (1.3.1)\n",
            "Requirement already satisfied: cycler>=0.10 in /usr/local/lib/python3.10/dist-packages (from matplotlib->mlend==1.0.0.4) (0.12.1)\n",
            "Requirement already satisfied: fonttools>=4.22.0 in /usr/local/lib/python3.10/dist-packages (from matplotlib->mlend==1.0.0.4) (4.55.0)\n",
            "Requirement already satisfied: kiwisolver>=1.0.1 in /usr/local/lib/python3.10/dist-packages (from matplotlib->mlend==1.0.0.4) (1.4.7)\n",
            "Requirement already satisfied: packaging>=20.0 in /usr/local/lib/python3.10/dist-packages (from matplotlib->mlend==1.0.0.4) (24.2)\n",
            "Requirement already satisfied: pillow>=6.2.0 in /usr/local/lib/python3.10/dist-packages (from matplotlib->mlend==1.0.0.4) (11.0.0)\n",
            "Requirement already satisfied: pyparsing>=2.3.1 in /usr/local/lib/python3.10/dist-packages (from matplotlib->mlend==1.0.0.4) (3.2.0)\n",
            "Requirement already satisfied: python-dateutil>=2.7 in /usr/local/lib/python3.10/dist-packages (from matplotlib->mlend==1.0.0.4) (2.8.2)\n",
            "Requirement already satisfied: pytz>=2020.1 in /usr/local/lib/python3.10/dist-packages (from pandas->mlend==1.0.0.4) (2024.2)\n",
            "Requirement already satisfied: tzdata>=2022.7 in /usr/local/lib/python3.10/dist-packages (from pandas->mlend==1.0.0.4) (2024.2)\n",
            "Requirement already satisfied: scikit-learn in /usr/local/lib/python3.10/dist-packages (from spkit->mlend==1.0.0.4) (1.5.2)\n",
            "Requirement already satisfied: python-picard in /usr/local/lib/python3.10/dist-packages (from spkit->mlend==1.0.0.4) (0.8)\n",
            "Requirement already satisfied: PyWavelets in /usr/local/lib/python3.10/dist-packages (from spkit->mlend==1.0.0.4) (1.8.0)\n",
            "Requirement already satisfied: pylfsr in /usr/local/lib/python3.10/dist-packages (from spkit->mlend==1.0.0.4) (1.0.7)\n",
            "Requirement already satisfied: h5py in /usr/local/lib/python3.10/dist-packages (from spkit->mlend==1.0.0.4) (3.12.1)\n",
            "Requirement already satisfied: seaborn in /usr/local/lib/python3.10/dist-packages (from spkit->mlend==1.0.0.4) (0.13.2)\n",
            "Requirement already satisfied: phyaat in /usr/local/lib/python3.10/dist-packages (from spkit->mlend==1.0.0.4) (0.0.3)\n",
            "Requirement already satisfied: six>=1.5 in /usr/local/lib/python3.10/dist-packages (from python-dateutil>=2.7->matplotlib->mlend==1.0.0.4) (1.16.0)\n",
            "Requirement already satisfied: threadpoolctl>=3.1.0 in /usr/local/lib/python3.10/dist-packages (from scikit-learn->spkit->mlend==1.0.0.4) (3.5.0)\n",
            "Downloading 100 stories (audio files) from https://github.com/MLEndDatasets/Deception\n",
            "100%|\u001b[92m▓▓▓▓▓▓▓▓▓▓▓▓▓▓▓▓▓▓▓▓▓▓▓▓▓▓▓▓▓▓▓▓▓▓▓▓▓▓▓▓▓▓▓▓▓▓▓▓▓▓\u001b[0m|100\\100|00100.wav\n",
            "Done!\n"
          ]
        }
      ]
    },
    {
      "cell_type": "markdown",
      "metadata": {
        "id": "zp7HSJSCQez7"
      },
      "source": [
        "#                      [LieSpy-Audio Deception Detection in Human Speech]"
      ]
    },
    {
      "cell_type": "markdown",
      "metadata": {
        "id": "ZaGn4ICrfqXZ"
      },
      "source": [
        "# 1 Author\n",
        "\n",
        "**Student Name**: Prince Yadav\n",
        "\n",
        "**Student ID**: 240685205  \n",
        "\n"
      ]
    },
    {
      "cell_type": "markdown",
      "metadata": {
        "id": "o38VQkcdKd6k"
      },
      "source": [
        "# 2 Problem formulation\n",
        "In this Machine learning problem Classification task is performed for deception detection on speech audio(.wav) files, we will classify the stories into binary labels either the story is **true** or **deceptive**, this will help to idenfity whether a person is speaking truth or lying, intersting thing about this is this can be further used to make a advance model which benefit various sectors such as legal field, fraud detection and healthcare by detecting the deceptive behaviour in real- world.\n"
      ]
    },
    {
      "cell_type": "markdown",
      "metadata": {
        "id": "bPTSuaB9L2jU"
      },
      "source": [
        "# 3 Methodology\n",
        "Model take features as input and predcit whether the story is true or deceptive, Training task is performed to train the model the validate the model by testing it on unseen audio files.\n",
        "Model performance is defined using the **classification table** which shows **accuracy**, **precision**, **recall** and **F1-score**, we will evaluate the model performance primarily using the **recall metric** for **deceptive story**, this focus on minimizing the **False Deceptive Stories** which ensure most deceptive stories are identified. Selection of metrices totally depends on application to application if False True Stories is costly then we  will focus on Precision of Deceptive Stories. F1 - score can be used if both False True and Deceptive are important. I would go with the recall of deceptive aim of this application is to detect the deception, so it should properly flag the true deceptive stories, again its totally depends on your application and the cost of False True and False Deceptive."
      ]
    },
    {
      "cell_type": "markdown",
      "metadata": {
        "id": "N3BwrtEdLDit"
      },
      "source": [
        "# 4 Implemented ML prediction pipelines\n",
        "\n",
        "\n",
        "\n",
        "        Load the data of audio files and their csv file which contains their respective labels\n",
        "                      V\n",
        "        Split the data into Train, Validate Data          \n",
        "                      V\n",
        "        Divide the audio file into 30 second chunks (drop last chunk if its duration is less than 30 seconds)\n",
        "                      V\n",
        "        Extract features - Pitch Standard Deviation and ZCR(Zero Crossing Rate)\n",
        "                      V\n",
        "        Normalise the features using Min-Max Scaler\n",
        "                      V\n",
        "        Train K-Nearest Neighbors (KNN) on training data\n",
        "                      V\n",
        "        Validate the model on Validation dataset using metrices like Confusion matrix, accuracy, precision, recall, F1-score and ROC AUC\n"
      ]
    },
    {
      "cell_type": "markdown",
      "metadata": {
        "id": "j1nDXnzYLLH6"
      },
      "source": [
        "## 4.1 Transformation stage\n",
        "Audio File $--> $ Split in train test (80-20 ratio)  $--> $  30 seconds chunks seperately for **train** and **test** data,drop the last chunk if it is less than 30 seconds  $--> $ **Pitch standard deviation** , **zero crossing rate** are extracted from the audio(.wav) files $--> $ Store extracted features in a dataframe sperately for Train and Test data.\n",
        "\n",
        "There are many ways of chunking,for instance, you can  create chunks from the audio file each chunks of 30 seconds without overlapping (15seconds) and drop the last chunk if its duration is less than 30 seconds.\n",
        "I have explored various combinations of features, including **Power**,**Pitch mean**, **MFCCs** with different dimensions (e.g., 13, 20, 40), **Spectral Centroid**, **Speech Rate**, **Pauses**, **Power**, **Short Term Energy**, **Spectral Flateness**.\n",
        "\n",
        "**ZCR (Zero Crossing Rate)** measures the frequency of signal sign changes and is often used to detect noise or rapid transitions in audio.\n",
        "\n",
        "**Pitch Std (Pitch Standard Deviation)** measures the variability of the pitch in an audio signal, helping to analyze emotional tone or speech patterns, useful in tasks like deception detection.\n",
        "\n",
        "Compare their metrices on different models and decided to proceed with ZCR(Zero Crossing rate), Pitch Standard deviation.\n",
        "\n",
        "*Compare different combination of features on different models with and without overlapping.*"
      ]
    },
    {
      "cell_type": "markdown",
      "source": [
        "#### Path of Downloaded audio(.wav) files and Labels CSV File"
      ],
      "metadata": {
        "id": "3uFRlZrCvKIg"
      }
    },
    {
      "cell_type": "code",
      "source": [
        "audio_main = '/content/MLEnd/deception/MLEndDD_stories_small/'\n",
        "csv = '/content/MLEnd/deception/MLEndDD_story_attributes_small.csv'\n"
      ],
      "metadata": {
        "colab": {
          "base_uri": "https://localhost:8080/"
        },
        "id": "LXwnvbJ-vEtu",
        "outputId": "3d00ee38-fbf7-4e6d-95e0-baa453be9269"
      },
      "execution_count": 385,
      "outputs": [
        {
          "output_type": "stream",
          "name": "stderr",
          "text": [
            "/usr/local/lib/python3.10/dist-packages/ipykernel/ipkernel.py:283: DeprecationWarning: `should_run_async` will not call `transform_cell` automatically in the future. Please pass the result to `transformed_cell` argument and any exception that happen during thetransform in `preprocessing_exc_tuple` in IPython 7.17 and above.\n"
          ]
        }
      ]
    },
    {
      "cell_type": "markdown",
      "source": [
        "#### Path of Directory for train & test data and CSV\n",
        "\n",
        "\n"
      ],
      "metadata": {
        "id": "gzQmx--1xYl4"
      }
    },
    {
      "cell_type": "code",
      "source": [
        "  # This Directory store the test and train dataset\n",
        "train_test_directory = \"/content/MLEnd/Train_Test_Split\""
      ],
      "metadata": {
        "id": "mCtikWphxsud"
      },
      "execution_count": 386,
      "outputs": []
    },
    {
      "cell_type": "markdown",
      "source": [
        "#### Splitting the audio files into Train Test before further processing\n"
      ],
      "metadata": {
        "id": "7494jckpEuL3"
      }
    },
    {
      "cell_type": "code",
      "source": [
        "import os\n",
        "import pandas as pd\n",
        "from sklearn.model_selection import train_test_split\n",
        "import shutil\n",
        "\n",
        "# Load the CSV file\n",
        "csv_df = pd.read_csv(csv)\n",
        "\n",
        "# Ensure the filenames match the actual .wav files\n",
        "csv_df['filepath'] = csv_df['filename'].apply(lambda x: os.path.join(audio_main, x))\n",
        "\n",
        "# Split the data train, test (80-20 ratio )\n",
        "train_data, test_data = train_test_split(csv_df, test_size=0.2, random_state=42, stratify=csv_df['Story_type']) # startify helps to maintain the class balance\n",
        "\n",
        "# Create directories for split data\n",
        "train_dir = os.path.join(train_test_directory, 'train_audio')\n",
        "test_dir = os.path.join(train_test_directory, 'test_audio')\n",
        "os.makedirs(train_dir, exist_ok=True)\n",
        "os.makedirs(test_dir, exist_ok=True)\n",
        "\n",
        "# Function to copy files to corresponding directories\n",
        "def copy_files(data_subset, destination_dir):\n",
        "    for _, row in data_subset.iterrows():\n",
        "        destination_path = os.path.join(destination_dir, row['filename'])\n",
        "        shutil.copy(row['filepath'], destination_path)\n",
        "\n",
        "# Copy files to train and test directories\n",
        "copy_files(train_data, train_dir)\n",
        "copy_files(test_data, test_dir)\n",
        "\n",
        "# Save CSVs for train and test splits\n",
        "train_data.to_csv(os.path.join(train_test_directory, 'train_csv.csv'), index=False)\n",
        "test_data.to_csv(os.path.join(train_test_directory, 'test_csv.csv'), index=False)\n",
        "\n",
        "print(\"Data successfully split into train and test sets.\")"
      ],
      "metadata": {
        "colab": {
          "base_uri": "https://localhost:8080/"
        },
        "id": "3ksKDMytvqJ9",
        "outputId": "1a6de661-47de-46b7-dfbe-922164669777"
      },
      "execution_count": 387,
      "outputs": [
        {
          "output_type": "stream",
          "name": "stdout",
          "text": [
            "Data successfully split into train and test sets.\n"
          ]
        }
      ]
    },
    {
      "cell_type": "markdown",
      "source": [
        "#### Path of splitted original full length audio9(.wav) and CSV files"
      ],
      "metadata": {
        "id": "KQOpBoo4EVuB"
      }
    },
    {
      "cell_type": "code",
      "source": [
        "# paths of training and testing dataset(splitted data files and their csv is stored)\n",
        "train_audio = '/content/MLEnd/Train_Test_Split/train_audio'\n",
        "test_audio = '/content/MLEnd/Train_Test_Split/test_audio'\n",
        "train_csv = '/content/MLEnd/Train_Test_Split/train_csv.csv'\n",
        "test_csv = '/content/MLEnd/Train_Test_Split/test_csv.csv'\n",
        "\n",
        "# Paths of chunk audio files ( where the chunks of train, test files will be stored)\n",
        "main_chunk_folder = '/content/MLEnd/Chunks&CSV'\n",
        "train_chunk_folder = os.path.join(main_chunk_folder, 'train_wav') # chunks of train datset stored here\n",
        "test_chunk_folder = os.path.join(main_chunk_folder, 'test_wav') # chunks of test dataset stored here\n",
        "os.makedirs(train_chunk_folder, exist_ok=True) # create a directory for chunks of train wav files\n",
        "os.makedirs(test_chunk_folder, exist_ok=True) # create a directory for chunks of test wav files\n"
      ],
      "metadata": {
        "colab": {
          "base_uri": "https://localhost:8080/"
        },
        "id": "B5_dQ2uJq9H9",
        "outputId": "f5d77cb0-3e36-4bd5-fc35-49071d3a7457"
      },
      "execution_count": 388,
      "outputs": [
        {
          "output_type": "stream",
          "name": "stderr",
          "text": [
            "/usr/local/lib/python3.10/dist-packages/ipykernel/ipkernel.py:283: DeprecationWarning: `should_run_async` will not call `transform_cell` automatically in the future. Please pass the result to `transformed_cell` argument and any exception that happen during thetransform in `preprocessing_exc_tuple` in IPython 7.17 and above.\n"
          ]
        }
      ]
    },
    {
      "cell_type": "markdown",
      "source": [
        "#### Chunking Train and Test Seperately"
      ],
      "metadata": {
        "id": "FrOfStCEEOjx"
      }
    },
    {
      "cell_type": "code",
      "source": [
        "import os, glob\n",
        "import pandas as pd\n",
        "import librosa\n",
        "import soundfile as sf\n",
        "\n",
        "def create_audio_chunks(df, source_audio_folder, dest_audio_folder, chunk_length=30):\n",
        "\n",
        "    if not os.path.exists(dest_audio_folder):\n",
        "        os.makedirs(dest_audio_folder)\n",
        "\n",
        "    chunk_data = []\n",
        "    for index, row in df.iterrows():\n",
        "        file_path = os.path.join(source_audio_folder, row['filename'])\n",
        "        if not os.path.exists(file_path):\n",
        "            print(f\"File not found: {file_path}\")\n",
        "            continue\n",
        "\n",
        "        try:\n",
        "            y, sr = librosa.load(file_path, sr=16000)\n",
        "            total_samples = len(y)\n",
        "            chunk_samples = chunk_length * sr  # Number of samples in a chunk\n",
        "\n",
        "            num_chunks = total_samples // chunk_samples  # Number of full chunks\n",
        "\n",
        "            for i in range(num_chunks):\n",
        "                start = i * chunk_samples\n",
        "                end = start + chunk_samples\n",
        "                chunk = y[start:end]\n",
        "\n",
        "                # Save the chunk\n",
        "                chunk_filename = f\"{row['filename'].split('.')[0]}_chunk_{i+1}.wav\"\n",
        "                chunk_filepath = os.path.join(dest_audio_folder, chunk_filename)\n",
        "                sf.write(chunk_filepath, chunk, sr)\n",
        "\n",
        "                # Add metadata for the chunk\n",
        "                chunk_data.append({\n",
        "                    'filename': chunk_filename,\n",
        "                    'label': row['Story_type'],\n",
        "                    'start_time': start / sr,\n",
        "                    'end_time': end / sr\n",
        "                })\n",
        "        except Exception as e:\n",
        "            print(f\"Error processing {file_path}: {e}\")\n",
        "\n",
        "    return pd.DataFrame(chunk_data)\n",
        "\n",
        "# Load training and testing data\n",
        "train_df = pd.read_csv(train_csv)\n",
        "test_df = pd.read_csv(test_csv)\n",
        "\n",
        "# Create and save chunks for training data\n",
        "train_chunks_wav = create_audio_chunks(train_df, train_audio, train_chunk_folder, chunk_length=30)\n",
        "train_chunks_csv = os.path.join(main_chunk_folder, 'train_chunks.csv')\n",
        "train_chunks_wav.to_csv(train_chunks_csv, index=False)\n",
        "\n",
        "# Create and save chunks for testing data\n",
        "test_chunks_wav = create_audio_chunks(test_df, test_audio, test_chunk_folder, chunk_length=30)\n",
        "test_chunks_csv = os.path.join(main_chunk_folder, 'test_chunks.csv')\n",
        "test_chunks_wav.to_csv(test_chunks_csv, index=False)\n",
        "\n",
        "print(f\"Train and test chunks saved in '{main_chunk_folder}'\")"
      ],
      "metadata": {
        "colab": {
          "base_uri": "https://localhost:8080/"
        },
        "id": "7NAhxNwvrpfU",
        "outputId": "a5bd621c-900d-44da-9cd9-c78cd07e605e"
      },
      "execution_count": 389,
      "outputs": [
        {
          "output_type": "stream",
          "name": "stdout",
          "text": [
            "Train and test chunks saved in '/content/MLEnd/Chunks&CSV'\n"
          ]
        }
      ]
    },
    {
      "cell_type": "markdown",
      "source": [
        "#### Train and Test chunks files path and CSV loading"
      ],
      "metadata": {
        "id": "QdVHKDTBDqMD"
      }
    },
    {
      "cell_type": "code",
      "source": [
        "train_chunk_path = '/content/MLEnd/Chunks&CSV/train_wav/*.wav'\n",
        "train_files = glob.glob(train_chunk_path)\n",
        "print(f\"No. of .wav chunks in train data: {len(train_files)}\")\n",
        "test_chunk_path = '/content/MLEnd/Chunks&CSV/test_wav/*.wav'\n",
        "test_files = glob.glob(test_chunk_path)\n",
        "print(f\"No. of .wav chunks in test data: {len(test_files)}\")\n",
        "\n",
        "# Load the Train and Test Chunks CSV\n",
        "train_chunks_df = pd.read_csv(train_chunks_csv).set_index('filename')\n",
        "test_chunks_df = pd.read_csv(test_chunks_csv).set_index('filename')"
      ],
      "metadata": {
        "colab": {
          "base_uri": "https://localhost:8080/"
        },
        "id": "b_JtJgkdyBiz",
        "outputId": "943aa005-aba2-4aa4-c094-934e1311391f"
      },
      "execution_count": 390,
      "outputs": [
        {
          "output_type": "stream",
          "name": "stdout",
          "text": [
            "No. of .wav chunks in train data: 336\n",
            "No. of .wav chunks in test data: 84\n"
          ]
        },
        {
          "output_type": "stream",
          "name": "stderr",
          "text": [
            "/usr/local/lib/python3.10/dist-packages/ipykernel/ipkernel.py:283: DeprecationWarning: `should_run_async` will not call `transform_cell` automatically in the future. Please pass the result to `transformed_cell` argument and any exception that happen during thetransform in `preprocessing_exc_tuple` in IPython 7.17 and above.\n"
          ]
        }
      ]
    },
    {
      "cell_type": "markdown",
      "source": [
        "#### Extract features - ZCR and Pitch standard deviation"
      ],
      "metadata": {
        "id": "vNjzaH-blt95"
      }
    },
    {
      "cell_type": "code",
      "source": [
        "import librosa\n",
        "import numpy as np\n",
        "from tqdm import tqdm\n",
        "def getXy(files,labels_file):\n",
        "  X,y =[],[]\n",
        "  for file in tqdm(files):\n",
        "    filename = file.split('/')[-1]\n",
        "    yi = labels_file.loc[filename]['label']=='true_story'\n",
        "\n",
        "    fs = 16000 # if None, fs would be 22050\n",
        "    x, fs = librosa.load(file,sr=fs)\n",
        "    pitches, magnitudes = librosa.piptrack(y=x, sr=fs)\n",
        "    pitch = pitches[magnitudes > np.percentile(magnitudes, 95)]  # Use high-magnitude pitches\n",
        "    pitch_std = np.std(pitch) if len(pitch) > 0 else 0\n",
        "\n",
        "    zcr = np.mean(librosa.feature.zero_crossing_rate(y=x))\n",
        "    xi = [zcr,pitch_std]\n",
        "    X.append(xi)\n",
        "    y.append(yi)\n",
        "\n",
        "  return np.array(X),np.array(y)\n",
        "\n",
        "X_train, y_train = getXy(train_files,train_chunks_df)\n",
        "X_test, y_test = getXy(test_files,test_chunks_df)"
      ],
      "metadata": {
        "id": "rfIhND3DpwDr",
        "colab": {
          "base_uri": "https://localhost:8080/"
        },
        "outputId": "d00a9e61-e756-4a80-ea6f-a78276a94371"
      },
      "execution_count": 391,
      "outputs": [
        {
          "output_type": "stream",
          "name": "stderr",
          "text": [
            "/usr/local/lib/python3.10/dist-packages/ipykernel/ipkernel.py:283: DeprecationWarning: `should_run_async` will not call `transform_cell` automatically in the future. Please pass the result to `transformed_cell` argument and any exception that happen during thetransform in `preprocessing_exc_tuple` in IPython 7.17 and above.\n",
            "100%|██████████| 336/336 [00:37<00:00,  8.94it/s]\n",
            "100%|██████████| 84/84 [00:06<00:00, 12.69it/s]\n"
          ]
        }
      ]
    },
    {
      "cell_type": "markdown",
      "source": [
        "#### Label Encoding"
      ],
      "metadata": {
        "id": "VUfsU0_dCaRs"
      }
    },
    {
      "cell_type": "code",
      "source": [
        "from sklearn.preprocessing import LabelEncoder\n",
        "# True Story = 1\n",
        "# Deceptive Story = 0\n",
        "labels = LabelEncoder()\n",
        "y_train = labels.fit_transform(y_train)\n",
        "y_test = labels.transform(y_test)"
      ],
      "metadata": {
        "id": "ICeOY0DwCZwS"
      },
      "execution_count": 392,
      "outputs": []
    },
    {
      "cell_type": "markdown",
      "source": [
        "#### Scaling features using MinMax Scaler"
      ],
      "metadata": {
        "id": "hEuq44uN5FMp"
      }
    },
    {
      "cell_type": "code",
      "source": [
        "from re import X\n",
        "from sklearn.preprocessing import MinMaxScaler\n",
        "scaler = MinMaxScaler()\n",
        "X_train = scaler.fit_transform(X_train)\n",
        "X_test = scaler.transform(X_test)"
      ],
      "metadata": {
        "colab": {
          "base_uri": "https://localhost:8080/"
        },
        "id": "9DyD2e0x5EwD",
        "outputId": "030c22b4-f212-48fa-e768-1f120973aba1"
      },
      "execution_count": 393,
      "outputs": [
        {
          "output_type": "stream",
          "name": "stderr",
          "text": [
            "/usr/local/lib/python3.10/dist-packages/ipykernel/ipkernel.py:283: DeprecationWarning: `should_run_async` will not call `transform_cell` automatically in the future. Please pass the result to `transformed_cell` argument and any exception that happen during thetransform in `preprocessing_exc_tuple` in IPython 7.17 and above.\n"
          ]
        }
      ]
    },
    {
      "cell_type": "markdown",
      "metadata": {
        "id": "0F5_kI95LuZ2"
      },
      "source": [
        "## 4.2 Model stage\n",
        "**K-Nearest Neighbors (KNN)** is used because of its simplicity and intuition. It has the ability to handle non-linear decision boundaries, which is important in deception detection, where features like **pitch standard deviation** and **Zero Crossing Rate (ZCR)** may have complex and non-linear relationships. KNN can handle these complexities effectively. Additionally, KNN works well for small datasets. As a model based on distance metrics, it is both simple and efficient.\n",
        "\n",
        "I have also tried **SVC (Support Vector Classifier)** and **Random Forest Classifier**. These two models are more complex than KNN, but in this specific problem, KNN outperformed both of them.\n",
        "I have tested these two models with different combination of hyperparameters.\n",
        "\n",
        "Cross-validation is generally a great technique for evaluating the performance of a model, but it can introduce issues when dealing with chunked data, especially in scenarios where the data is sequential or consists of multiple chunks from the same file. Here's why cross-validation may not be the best choice when working with chunked data."
      ]
    },
    {
      "cell_type": "markdown",
      "source": [
        "#### KNN"
      ],
      "metadata": {
        "id": "bl-9vQHB-eGM"
      }
    },
    {
      "cell_type": "code",
      "source": [
        "from sklearn.neighbors import KNeighborsClassifier\n",
        "knn = KNeighborsClassifier(n_neighbors=2)\n",
        "knn = knn.fit(X_train, y_train)"
      ],
      "metadata": {
        "colab": {
          "base_uri": "https://localhost:8080/"
        },
        "id": "3fFRaId7-ggd",
        "outputId": "14a0ba76-ec2c-4b32-f7e5-1b10ded6b95f"
      },
      "execution_count": 394,
      "outputs": [
        {
          "output_type": "stream",
          "name": "stderr",
          "text": [
            "/usr/local/lib/python3.10/dist-packages/ipykernel/ipkernel.py:283: DeprecationWarning: `should_run_async` will not call `transform_cell` automatically in the future. Please pass the result to `transformed_cell` argument and any exception that happen during thetransform in `preprocessing_exc_tuple` in IPython 7.17 and above.\n"
          ]
        }
      ]
    },
    {
      "cell_type": "markdown",
      "metadata": {
        "id": "qE1-YoTJQez9"
      },
      "source": [
        "## 4.3 Ensemble stage\n",
        "\n",
        " Tried hard voting ensemble technique on knn and random forest classifier, and compare with both models.\n",
        " Didn't see any change in metrices.\n"
      ]
    },
    {
      "cell_type": "markdown",
      "metadata": {
        "id": "HZQPxztuL9AW"
      },
      "source": [
        "# 5 Dataset\n",
        "Two separate datasets, **Train and Test**, were created before chunking to prevent data leakage. If chunking is done first and then the data is split, there is a risk that chunks from the same file could end up in both the training and validation datasets. This would lead to better performance on the validation set but poor generalization on unseen data.\n",
        "\n",
        "A total of 100 audio files were available, which were split into 80% for training and 20% for testing before chunking. After chunking, the training set consists of 336 files, while the test set contains 84 files.\n",
        "\n",
        "\n",
        "\n"
      ]
    },
    {
      "cell_type": "markdown",
      "source": [
        "#### 5.1 Train Dataset"
      ],
      "metadata": {
        "id": "VC9fVC5jDPuY"
      }
    },
    {
      "cell_type": "code",
      "source": [
        "train_features_df = pd.DataFrame(X_train, columns=['zcr', 'pitch_std'])\n",
        "train_features_df['filename'] = [file.split('/')[-1] for file in train_files]\n",
        "train_features_df['label'] = y_train\n",
        "train_features_df.set_index('filename', inplace=True)\n",
        "print(train_features_df.head())"
      ],
      "metadata": {
        "colab": {
          "base_uri": "https://localhost:8080/"
        },
        "id": "-83ooHi8_Re9",
        "outputId": "e2559e4e-4734-4749-89c3-738968d7a4d0"
      },
      "execution_count": 395,
      "outputs": [
        {
          "output_type": "stream",
          "name": "stdout",
          "text": [
            "                        zcr  pitch_std  label\n",
            "filename                                     \n",
            "00005_chunk_3.wav  0.460200   0.696999      0\n",
            "00053_chunk_3.wav  0.271450   0.835365      0\n",
            "00038_chunk_3.wav  0.676955   0.695293      0\n",
            "00075_chunk_2.wav  0.457857   0.852173      1\n",
            "00045_chunk_1.wav  0.675679   0.850625      0\n"
          ]
        },
        {
          "output_type": "stream",
          "name": "stderr",
          "text": [
            "/usr/local/lib/python3.10/dist-packages/ipykernel/ipkernel.py:283: DeprecationWarning: `should_run_async` will not call `transform_cell` automatically in the future. Please pass the result to `transformed_cell` argument and any exception that happen during thetransform in `preprocessing_exc_tuple` in IPython 7.17 and above.\n"
          ]
        }
      ]
    },
    {
      "cell_type": "markdown",
      "source": [
        "Shape of Train Data"
      ],
      "metadata": {
        "id": "Hfjulvs0znj2"
      }
    },
    {
      "cell_type": "code",
      "source": [
        "print(train_features_df.shape)"
      ],
      "metadata": {
        "colab": {
          "base_uri": "https://localhost:8080/"
        },
        "id": "iwTfKRNetRqb",
        "outputId": "e27532f6-8aa2-44dd-e5b8-f0f12951895a"
      },
      "execution_count": 396,
      "outputs": [
        {
          "output_type": "stream",
          "name": "stdout",
          "text": [
            "(336, 3)\n"
          ]
        },
        {
          "output_type": "stream",
          "name": "stderr",
          "text": [
            "/usr/local/lib/python3.10/dist-packages/ipykernel/ipkernel.py:283: DeprecationWarning: `should_run_async` will not call `transform_cell` automatically in the future. Please pass the result to `transformed_cell` argument and any exception that happen during thetransform in `preprocessing_exc_tuple` in IPython 7.17 and above.\n"
          ]
        }
      ]
    },
    {
      "cell_type": "markdown",
      "source": [
        "Class count\n",
        "\n",
        "1 - True\n",
        "\n",
        "0 - Deceptive"
      ],
      "metadata": {
        "id": "wh7crW6Fsnj6"
      }
    },
    {
      "cell_type": "code",
      "source": [
        "train_features_df['label'].value_counts()"
      ],
      "metadata": {
        "colab": {
          "base_uri": "https://localhost:8080/",
          "height": 178
        },
        "id": "jKX9aSc0h5Ib",
        "outputId": "04131bb6-4b3e-4c93-bfd2-4e752133f575"
      },
      "execution_count": 397,
      "outputs": [
        {
          "output_type": "execute_result",
          "data": {
            "text/plain": [
              "label\n",
              "1    174\n",
              "0    162\n",
              "Name: count, dtype: int64"
            ],
            "text/html": [
              "<div>\n",
              "<style scoped>\n",
              "    .dataframe tbody tr th:only-of-type {\n",
              "        vertical-align: middle;\n",
              "    }\n",
              "\n",
              "    .dataframe tbody tr th {\n",
              "        vertical-align: top;\n",
              "    }\n",
              "\n",
              "    .dataframe thead th {\n",
              "        text-align: right;\n",
              "    }\n",
              "</style>\n",
              "<table border=\"1\" class=\"dataframe\">\n",
              "  <thead>\n",
              "    <tr style=\"text-align: right;\">\n",
              "      <th></th>\n",
              "      <th>count</th>\n",
              "    </tr>\n",
              "    <tr>\n",
              "      <th>label</th>\n",
              "      <th></th>\n",
              "    </tr>\n",
              "  </thead>\n",
              "  <tbody>\n",
              "    <tr>\n",
              "      <th>1</th>\n",
              "      <td>174</td>\n",
              "    </tr>\n",
              "    <tr>\n",
              "      <th>0</th>\n",
              "      <td>162</td>\n",
              "    </tr>\n",
              "  </tbody>\n",
              "</table>\n",
              "</div><br><label><b>dtype:</b> int64</label>"
            ]
          },
          "metadata": {},
          "execution_count": 397
        }
      ]
    },
    {
      "cell_type": "markdown",
      "source": [
        "Plotting PDF of ZCR and Pitch Standard Deviation for Train  Data"
      ],
      "metadata": {
        "id": "kjUVcJhD2Mqi"
      }
    },
    {
      "cell_type": "code",
      "source": [
        "import matplotlib.pyplot as plt\n",
        "import seaborn as sns\n",
        "\n",
        "plt.figure(figsize=(10, 5))\n",
        "\n",
        "plt.subplot(1, 2, 1)\n",
        "sns.kdeplot(train_features_df[train_features_df['label'] == 1]['zcr'], label='True Story', fill=True)\n",
        "sns.kdeplot(train_features_df[train_features_df['label'] == 0]['zcr'], label='Deceptive Story', fill=True)\n",
        "plt.xlabel('ZCR')\n",
        "plt.ylabel('PDF')\n",
        "plt.title('PDF of ZCR')\n",
        "plt.legend()\n",
        "\n",
        "plt.subplot(1, 2, 2)\n",
        "sns.kdeplot(train_features_df[train_features_df['label'] == 1]['pitch_std'], label='True Story', fill=True)\n",
        "sns.kdeplot(train_features_df[train_features_df['label'] == 0]['pitch_std'], label='Deceptive Story', fill=True)\n",
        "plt.xlabel('Pitch Standard Deviation')\n",
        "plt.ylabel('PDF')\n",
        "plt.title('PDF of Pitch Standard Deviation')\n",
        "plt.legend()\n",
        "\n",
        "plt.tight_layout()\n",
        "plt.show()"
      ],
      "metadata": {
        "colab": {
          "base_uri": "https://localhost:8080/",
          "height": 499
        },
        "id": "Cz5IbUnJ1o7n",
        "outputId": "f465f586-a383-41f8-cce9-f4e297c9cfd4"
      },
      "execution_count": 398,
      "outputs": [
        {
          "output_type": "display_data",
          "data": {
            "text/plain": [
              "<Figure size 1000x500 with 2 Axes>"
            ],
            "image/png": "[encoded data removed]"
          },
          "metadata": {}
        }
      ]
    },
    {
      "cell_type": "markdown",
      "source": [
        "#### Scatter plot for Train Data"
      ],
      "metadata": {
        "id": "612GGBSQ35G5"
      }
    },
    {
      "cell_type": "code",
      "source": [
        "from numpy import where\n",
        "from collections import Counter\n",
        "from sklearn.datasets import make_blobs\n",
        "from matplotlib import pyplot\n",
        "\n",
        "counter = Counter(y_train)\n",
        "\n",
        "for label, _ in counter.items():\n",
        "  label_name = 'True' if label == 1 else 'Deceptive'\n",
        "  row_ix = where(y_train == label)\n",
        "  pyplot.scatter(X_train[row_ix, 0], X_train[row_ix, 1], label=label_name)\n",
        "pyplot.legend()\n",
        "pyplot.xlabel('ZCR (Zero Crossing Rate)')\n",
        "pyplot.ylabel('Pitch Standard Deviation')\n",
        "pyplot.title('Scatter Plot of ZCR vs Pitch Standard Deviation of Train Data')\n",
        "pyplot.show()"
      ],
      "metadata": {
        "colab": {
          "base_uri": "https://localhost:8080/",
          "height": 509
        },
        "id": "8gUnjFA6mvmo",
        "outputId": "bc19789c-de6a-4581-92c1-430931da1633"
      },
      "execution_count": 399,
      "outputs": [
        {
          "output_type": "stream",
          "name": "stderr",
          "text": [
            "/usr/local/lib/python3.10/dist-packages/ipykernel/ipkernel.py:283: DeprecationWarning: `should_run_async` will not call `transform_cell` automatically in the future. Please pass the result to `transformed_cell` argument and any exception that happen during thetransform in `preprocessing_exc_tuple` in IPython 7.17 and above.\n"
          ]
        },
        {
          "output_type": "display_data",
          "data": {
            "text/plain": [
              "<Figure size 640x480 with 1 Axes>"
            ],
            "image/png": "[encoded data removed]"
          },
          "metadata": {}
        }
      ]
    },
    {
      "cell_type": "markdown",
      "source": [
        "#### 5.2 Test Dataset"
      ],
      "metadata": {
        "id": "MldKxFXwDT_a"
      }
    },
    {
      "cell_type": "code",
      "source": [
        "test_features_df = pd.DataFrame(X_test, columns=['zcr', 'pitch_std'])\n",
        "test_features_df['filename'] = [file.split('/')[-1] for file in test_files]\n",
        "test_features_df['label'] = y_test\n",
        "test_features_df.set_index('filename', inplace=True)\n",
        "test_features_df.head()"
      ],
      "metadata": {
        "colab": {
          "base_uri": "https://localhost:8080/",
          "height": 237
        },
        "id": "aY-yDk3Hf0J0",
        "outputId": "30b07b76-7a0d-4294-95f1-13acb40eb3c6"
      },
      "execution_count": 400,
      "outputs": [
        {
          "output_type": "execute_result",
          "data": {
            "text/plain": [
              "                        zcr  pitch_std  label\n",
              "filename                                     \n",
              "00089_chunk_4.wav  0.553656   0.749307      0\n",
              "00061_chunk_1.wav  0.298284   0.703685      1\n",
              "00028_chunk_4.wav  0.454588   0.807021      1\n",
              "00043_chunk_5.wav  0.194241   0.447463      1\n",
              "00018_chunk_4.wav  0.695460   0.819059      1"
            ],
            "text/html": [
              "\n",
              "  <div id=\"df-e537f18f-479b-4a75-9b75-6243fdfd7629\" class=\"colab-df-container\">\n",
              "    <div>\n",
              "<style scoped>\n",
              "    .dataframe tbody tr th:only-of-type {\n",
              "        vertical-align: middle;\n",
              "    }\n",
              "\n",
              "    .dataframe tbody tr th {\n",
              "        vertical-align: top;\n",
              "    }\n",
              "\n",
              "    .dataframe thead th {\n",
              "        text-align: right;\n",
              "    }\n",
              "</style>\n",
              "<table border=\"1\" class=\"dataframe\">\n",
              "  <thead>\n",
              "    <tr style=\"text-align: right;\">\n",
              "      <th></th>\n",
              "      <th>zcr</th>\n",
              "      <th>pitch_std</th>\n",
              "      <th>label</th>\n",
              "    </tr>\n",
              "    <tr>\n",
              "      <th>filename</th>\n",
              "      <th></th>\n",
              "      <th></th>\n",
              "      <th></th>\n",
              "    </tr>\n",
              "  </thead>\n",
              "  <tbody>\n",
              "    <tr>\n",
              "      <th>00089_chunk_4.wav</th>\n",
              "      <td>0.553656</td>\n",
              "      <td>0.749307</td>\n",
              "      <td>0</td>\n",
              "    </tr>\n",
              "    <tr>\n",
              "      <th>00061_chunk_1.wav</th>\n",
              "      <td>0.298284</td>\n",
              "      <td>0.703685</td>\n",
              "      <td>1</td>\n",
              "    </tr>\n",
              "    <tr>\n",
              "      <th>00028_chunk_4.wav</th>\n",
              "      <td>0.454588</td>\n",
              "      <td>0.807021</td>\n",
              "      <td>1</td>\n",
              "    </tr>\n",
              "    <tr>\n",
              "      <th>00043_chunk_5.wav</th>\n",
              "      <td>0.194241</td>\n",
              "      <td>0.447463</td>\n",
              "      <td>1</td>\n",
              "    </tr>\n",
              "    <tr>\n",
              "      <th>00018_chunk_4.wav</th>\n",
              "      <td>0.695460</td>\n",
              "      <td>0.819059</td>\n",
              "      <td>1</td>\n",
              "    </tr>\n",
              "  </tbody>\n",
              "</table>\n",
              "</div>\n",
              "    <div class=\"colab-df-buttons\">\n",
              "\n",
              "  <div class=\"colab-df-container\">\n",
              "    <button class=\"colab-df-convert\" onclick=\"convertToInteractive('df-e537f18f-479b-4a75-9b75-6243fdfd7629')\"\n",
              "            title=\"Convert this dataframe to an interactive table.\"\n",
              "            style=\"display:none;\">\n",
              "\n",
              "  <svg xmlns=\"http://www.w3.org/2000/svg\" height=\"24px\" viewBox=\"0 -960 960 960\">\n",
              "    <path d=\"M120-120v-720h720v720H120Zm60-500h600v-160H180v160Zm220 220h160v-160H400v160Zm0 220h160v-160H400v160ZM180-400h160v-160H180v160Zm440 0h160v-160H620v160ZM180-180h160v-160H180v160Zm440 0h160v-160H620v160Z\"/>\n",
              "  </svg>\n",
              "    </button>\n",
              "\n",
              "  <style>\n",
              "    .colab-df-container {\n",
              "      display:flex;\n",
              "      gap: 12px;\n",
              "    }\n",
              "\n",
              "    .colab-df-convert {\n",
              "      background-color: #E8F0FE;\n",
              "      border: none;\n",
              "      border-radius: 50%;\n",
              "      cursor: pointer;\n",
              "      display: none;\n",
              "      fill: #1967D2;\n",
              "      height: 32px;\n",
              "      padding: 0 0 0 0;\n",
              "      width: 32px;\n",
              "    }\n",
              "\n",
              "    .colab-df-convert:hover {\n",
              "      background-color: #E2EBFA;\n",
              "      box-shadow: 0px 1px 2px rgba(60, 64, 67, 0.3), 0px 1px 3px 1px rgba(60, 64, 67, 0.15);\n",
              "      fill: #174EA6;\n",
              "    }\n",
              "\n",
              "    .colab-df-buttons div {\n",
              "      margin-bottom: 4px;\n",
              "    }\n",
              "\n",
              "    [theme=dark] .colab-df-convert {\n",
              "      background-color: #3B4455;\n",
              "      fill: #D2E3FC;\n",
              "    }\n",
              "\n",
              "    [theme=dark] .colab-df-convert:hover {\n",
              "      background-color: #434B5C;\n",
              "      box-shadow: 0px 1px 3px 1px rgba(0, 0, 0, 0.15);\n",
              "      filter: drop-shadow(0px 1px 2px rgba(0, 0, 0, 0.3));\n",
              "      fill: #FFFFFF;\n",
              "    }\n",
              "  </style>\n",
              "\n",
              "    <script>\n",
              "      const buttonEl =\n",
              "        document.querySelector('#df-e537f18f-479b-4a75-9b75-6243fdfd7629 button.colab-df-convert');\n",
              "      buttonEl.style.display =\n",
              "        google.colab.kernel.accessAllowed ? 'block' : 'none';\n",
              "\n",
              "      async function convertToInteractive(key) {\n",
              "        const element = document.querySelector('#df-e537f18f-479b-4a75-9b75-6243fdfd7629');\n",
              "        const dataTable =\n",
              "          await google.colab.kernel.invokeFunction('convertToInteractive',\n",
              "                                                    [key], {});\n",
              "        if (!dataTable) return;\n",
              "\n",
              "        const docLinkHtml = 'Like what you see? Visit the ' +\n",
              "          '<a target=\"_blank\" href=https://colab.research.google.com/notebooks/data_table.ipynb>data table notebook</a>'\n",
              "          + ' to learn more about interactive tables.';\n",
              "        element.innerHTML = '';\n",
              "        dataTable['output_type'] = 'display_data';\n",
              "        await google.colab.output.renderOutput(dataTable, element);\n",
              "        const docLink = document.createElement('div');\n",
              "        docLink.innerHTML = docLinkHtml;\n",
              "        element.appendChild(docLink);\n",
              "      }\n",
              "    </script>\n",
              "  </div>\n",
              "\n",
              "\n",
              "<div id=\"df-85f9e44a-b511-457a-8b50-91ad48410520\">\n",
              "  <button class=\"colab-df-quickchart\" onclick=\"quickchart('df-85f9e44a-b511-457a-8b50-91ad48410520')\"\n",
              "            title=\"Suggest charts\"\n",
              "            style=\"display:none;\">\n",
              "\n",
              "<svg xmlns=\"http://www.w3.org/2000/svg\" height=\"24px\"viewBox=\"0 0 24 24\"\n",
              "     width=\"24px\">\n",
              "    <g>\n",
              "        <path d=\"M19 3H5c-1.1 0-2 .9-2 2v14c0 1.1.9 2 2 2h14c1.1 0 2-.9 2-2V5c0-1.1-.9-2-2-2zM9 17H7v-7h2v7zm4 0h-2V7h2v10zm4 0h-2v-4h2v4z\"/>\n",
              "    </g>\n",
              "</svg>\n",
              "  </button>\n",
              "\n",
              "<style>\n",
              "  .colab-df-quickchart {\n",
              "      --bg-color: #E8F0FE;\n",
              "      --fill-color: #1967D2;\n",
              "      --hover-bg-color: #E2EBFA;\n",
              "      --hover-fill-color: #174EA6;\n",
              "      --disabled-fill-color: #AAA;\n",
              "      --disabled-bg-color: #DDD;\n",
              "  }\n",
              "\n",
              "  [theme=dark] .colab-df-quickchart {\n",
              "      --bg-color: #3B4455;\n",
              "      --fill-color: #D2E3FC;\n",
              "      --hover-bg-color: #434B5C;\n",
              "      --hover-fill-color: #FFFFFF;\n",
              "      --disabled-bg-color: #3B4455;\n",
              "      --disabled-fill-color: #666;\n",
              "  }\n",
              "\n",
              "  .colab-df-quickchart {\n",
              "    background-color: var(--bg-color);\n",
              "    border: none;\n",
              "    border-radius: 50%;\n",
              "    cursor: pointer;\n",
              "    display: none;\n",
              "    fill: var(--fill-color);\n",
              "    height: 32px;\n",
              "    padding: 0;\n",
              "    width: 32px;\n",
              "  }\n",
              "\n",
              "  .colab-df-quickchart:hover {\n",
              "    background-color: var(--hover-bg-color);\n",
              "    box-shadow: 0 1px 2px rgba(60, 64, 67, 0.3), 0 1px 3px 1px rgba(60, 64, 67, 0.15);\n",
              "    fill: var(--button-hover-fill-color);\n",
              "  }\n",
              "\n",
              "  .colab-df-quickchart-complete:disabled,\n",
              "  .colab-df-quickchart-complete:disabled:hover {\n",
              "    background-color: var(--disabled-bg-color);\n",
              "    fill: var(--disabled-fill-color);\n",
              "    box-shadow: none;\n",
              "  }\n",
              "\n",
              "  .colab-df-spinner {\n",
              "    border: 2px solid var(--fill-color);\n",
              "    border-color: transparent;\n",
              "    border-bottom-color: var(--fill-color);\n",
              "    animation:\n",
              "      spin 1s steps(1) infinite;\n",
              "  }\n",
              "\n",
              "  @keyframes spin {\n",
              "    0% {\n",
              "      border-color: transparent;\n",
              "      border-bottom-color: var(--fill-color);\n",
              "      border-left-color: var(--fill-color);\n",
              "    }\n",
              "    20% {\n",
              "      border-color: transparent;\n",
              "      border-left-color: var(--fill-color);\n",
              "      border-top-color: var(--fill-color);\n",
              "    }\n",
              "    30% {\n",
              "      border-color: transparent;\n",
              "      border-left-color: var(--fill-color);\n",
              "      border-top-color: var(--fill-color);\n",
              "      border-right-color: var(--fill-color);\n",
              "    }\n",
              "    40% {\n",
              "      border-color: transparent;\n",
              "      border-right-color: var(--fill-color);\n",
              "      border-top-color: var(--fill-color);\n",
              "    }\n",
              "    60% {\n",
              "      border-color: transparent;\n",
              "      border-right-color: var(--fill-color);\n",
              "    }\n",
              "    80% {\n",
              "      border-color: transparent;\n",
              "      border-right-color: var(--fill-color);\n",
              "      border-bottom-color: var(--fill-color);\n",
              "    }\n",
              "    90% {\n",
              "      border-color: transparent;\n",
              "      border-bottom-color: var(--fill-color);\n",
              "    }\n",
              "  }\n",
              "</style>\n",
              "\n",
              "  <script>\n",
              "    async function quickchart(key) {\n",
              "      const quickchartButtonEl =\n",
              "        document.querySelector('#' + key + ' button');\n",
              "      quickchartButtonEl.disabled = true;  // To prevent multiple clicks.\n",
              "      quickchartButtonEl.classList.add('colab-df-spinner');\n",
              "      try {\n",
              "        const charts = await google.colab.kernel.invokeFunction(\n",
              "            'suggestCharts', [key], {});\n",
              "      } catch (error) {\n",
              "        console.error('Error during call to suggestCharts:', error);\n",
              "      }\n",
              "      quickchartButtonEl.classList.remove('colab-df-spinner');\n",
              "      quickchartButtonEl.classList.add('colab-df-quickchart-complete');\n",
              "    }\n",
              "    (() => {\n",
              "      let quickchartButtonEl =\n",
              "        document.querySelector('#df-85f9e44a-b511-457a-8b50-91ad48410520 button');\n",
              "      quickchartButtonEl.style.display =\n",
              "        google.colab.kernel.accessAllowed ? 'block' : 'none';\n",
              "    })();\n",
              "  </script>\n",
              "</div>\n",
              "\n",
              "    </div>\n",
              "  </div>\n"
            ],
            "application/vnd.google.colaboratory.intrinsic+json": {
              "type": "dataframe",
              "variable_name": "test_features_df",
              "summary": "{\n  \"name\": \"test_features_df\",\n  \"rows\": 84,\n  \"fields\": [\n    {\n      \"column\": \"filename\",\n      \"properties\": {\n        \"dtype\": \"string\",\n        \"num_unique_values\": 84,\n        \"samples\": [\n          \"00100_chunk_3.wav\",\n          \"00089_chunk_4.wav\",\n          \"00051_chunk_3.wav\"\n        ],\n        \"semantic_type\": \"\",\n        \"description\": \"\"\n      }\n    },\n    {\n      \"column\": \"zcr\",\n      \"properties\": {\n        \"dtype\": \"number\",\n        \"std\": 0.171204431809161,\n        \"min\": 0.17218522936774755,\n        \"max\": 0.7938401474894263,\n        \"num_unique_values\": 84,\n        \"samples\": [\n          0.7808610779741895,\n          0.5536557857065394,\n          0.2703264288038174\n        ],\n        \"semantic_type\": \"\",\n        \"description\": \"\"\n      }\n    },\n    {\n      \"column\": \"pitch_std\",\n      \"properties\": {\n        \"dtype\": \"number\",\n        \"std\": 0.13894030839137328,\n        \"min\": 0.35018471146874874,\n        \"max\": 0.9355784868807886,\n        \"num_unique_values\": 84,\n        \"samples\": [\n          0.9257692896467782,\n          0.7493072566138417,\n          0.4852336536325934\n        ],\n        \"semantic_type\": \"\",\n        \"description\": \"\"\n      }\n    },\n    {\n      \"column\": \"label\",\n      \"properties\": {\n        \"dtype\": \"number\",\n        \"std\": 0,\n        \"min\": 0,\n        \"max\": 1,\n        \"num_unique_values\": 2,\n        \"samples\": [\n          1,\n          0\n        ],\n        \"semantic_type\": \"\",\n        \"description\": \"\"\n      }\n    }\n  ]\n}"
            }
          },
          "metadata": {},
          "execution_count": 400
        }
      ]
    },
    {
      "cell_type": "markdown",
      "source": [
        "Shape of test data"
      ],
      "metadata": {
        "id": "aMIyZfCNzVdQ"
      }
    },
    {
      "cell_type": "code",
      "source": [
        "print(test_features_df.shape)"
      ],
      "metadata": {
        "colab": {
          "base_uri": "https://localhost:8080/"
        },
        "id": "35ixRUsitxCq",
        "outputId": "527e7aa0-beb0-4cae-dab5-4896a56310df"
      },
      "execution_count": 401,
      "outputs": [
        {
          "output_type": "stream",
          "name": "stdout",
          "text": [
            "(84, 3)\n"
          ]
        },
        {
          "output_type": "stream",
          "name": "stderr",
          "text": [
            "/usr/local/lib/python3.10/dist-packages/ipykernel/ipkernel.py:283: DeprecationWarning: `should_run_async` will not call `transform_cell` automatically in the future. Please pass the result to `transformed_cell` argument and any exception that happen during thetransform in `preprocessing_exc_tuple` in IPython 7.17 and above.\n"
          ]
        }
      ]
    },
    {
      "cell_type": "markdown",
      "source": [
        "Class count\n",
        "\n",
        "1 - True\n",
        "\n",
        "0 - Deceptive"
      ],
      "metadata": {
        "id": "56o40tSUzZcO"
      }
    },
    {
      "cell_type": "code",
      "source": [
        "test_features_df['label'].value_counts()"
      ],
      "metadata": {
        "colab": {
          "base_uri": "https://localhost:8080/",
          "height": 178
        },
        "id": "LifdHdk7wTWm",
        "outputId": "5afdc135-624b-4b17-fc53-0408d9017527"
      },
      "execution_count": 402,
      "outputs": [
        {
          "output_type": "execute_result",
          "data": {
            "text/plain": [
              "label\n",
              "1    45\n",
              "0    39\n",
              "Name: count, dtype: int64"
            ],
            "text/html": [
              "<div>\n",
              "<style scoped>\n",
              "    .dataframe tbody tr th:only-of-type {\n",
              "        vertical-align: middle;\n",
              "    }\n",
              "\n",
              "    .dataframe tbody tr th {\n",
              "        vertical-align: top;\n",
              "    }\n",
              "\n",
              "    .dataframe thead th {\n",
              "        text-align: right;\n",
              "    }\n",
              "</style>\n",
              "<table border=\"1\" class=\"dataframe\">\n",
              "  <thead>\n",
              "    <tr style=\"text-align: right;\">\n",
              "      <th></th>\n",
              "      <th>count</th>\n",
              "    </tr>\n",
              "    <tr>\n",
              "      <th>label</th>\n",
              "      <th></th>\n",
              "    </tr>\n",
              "  </thead>\n",
              "  <tbody>\n",
              "    <tr>\n",
              "      <th>1</th>\n",
              "      <td>45</td>\n",
              "    </tr>\n",
              "    <tr>\n",
              "      <th>0</th>\n",
              "      <td>39</td>\n",
              "    </tr>\n",
              "  </tbody>\n",
              "</table>\n",
              "</div><br><label><b>dtype:</b> int64</label>"
            ]
          },
          "metadata": {},
          "execution_count": 402
        }
      ]
    },
    {
      "cell_type": "markdown",
      "source": [
        "Plotting PDF of ZCR and Pitch Standard deviation for Test Data"
      ],
      "metadata": {
        "id": "oyOLxeDn2WWa"
      }
    },
    {
      "cell_type": "code",
      "source": [
        "plt.figure(figsize=(10, 5))\n",
        "\n",
        "plt.subplot(1, 2, 1)\n",
        "sns.kdeplot(test_features_df[test_features_df['label'] == 1]['zcr'], label='True Story', fill=True)\n",
        "sns.kdeplot(test_features_df[test_features_df['label'] == 0]['zcr'], label='Deceptive Story', fill=True)\n",
        "plt.xlabel('ZCR')\n",
        "plt.ylabel('PDF')\n",
        "plt.title('PDF of ZCR')\n",
        "plt.legend()\n",
        "\n",
        "plt.subplot(1, 2, 2)\n",
        "sns.kdeplot(test_features_df[test_features_df['label'] == 1]['pitch_std'], label='True Story', fill=True)\n",
        "sns.kdeplot(test_features_df[test_features_df['label'] == 0]['pitch_std'], label='Deceptive Story', fill=True)\n",
        "plt.xlabel('Pitch Standard Deviation')\n",
        "plt.ylabel('PDF')\n",
        "plt.title('PDF of Pitch Standard Deviation')\n",
        "plt.legend()\n",
        "\n",
        "plt.tight_layout()\n",
        "plt.show()"
      ],
      "metadata": {
        "colab": {
          "base_uri": "https://localhost:8080/",
          "height": 499
        },
        "id": "WBKfNUNA2gFb",
        "outputId": "fe54790a-4f60-49ba-8bdf-bb02a3d8d641"
      },
      "execution_count": 403,
      "outputs": [
        {
          "output_type": "display_data",
          "data": {
            "text/plain": [
              "<Figure size 1000x500 with 2 Axes>"
            ],
            "image/png": "[encoded data removed]"
          },
          "metadata": {}
        }
      ]
    },
    {
      "cell_type": "markdown",
      "source": [
        "#### Scatter Plot of Test Data"
      ],
      "metadata": {
        "id": "kST6D-4M3tt0"
      }
    },
    {
      "cell_type": "code",
      "source": [
        "import numpy as np\n",
        "from collections import Counter\n",
        "from matplotlib import pyplot\n",
        "\n",
        "counter = Counter(y_test)\n",
        "\n",
        "for label, _ in counter.items():\n",
        "  label_name = 'True' if label == 1 else 'Deceptive'\n",
        "  row_ix = np.where(y_test == label)\n",
        "  pyplot.scatter(X_test[row_ix,0], X_test[row_ix, 1], label=label_name)\n",
        "pyplot.legend()\n",
        "pyplot.xlabel('ZCR (Zero Crossing Rate)')\n",
        "pyplot.ylabel('Pitch Standard Deviation')\n",
        "pyplot.title('Scatter Plot of ZCR vs Pitch Standard Deviation for Test Data')\n",
        "pyplot.show()"
      ],
      "metadata": {
        "colab": {
          "base_uri": "https://localhost:8080/",
          "height": 509
        },
        "id": "6ZG1J5w2nVZY",
        "outputId": "c46c3279-a5aa-4a40-d595-57e089a78118"
      },
      "execution_count": 404,
      "outputs": [
        {
          "output_type": "stream",
          "name": "stderr",
          "text": [
            "/usr/local/lib/python3.10/dist-packages/ipykernel/ipkernel.py:283: DeprecationWarning: `should_run_async` will not call `transform_cell` automatically in the future. Please pass the result to `transformed_cell` argument and any exception that happen during thetransform in `preprocessing_exc_tuple` in IPython 7.17 and above.\n"
          ]
        },
        {
          "output_type": "display_data",
          "data": {
            "text/plain": [
              "<Figure size 640x480 with 1 Axes>"
            ],
            "image/png": "[encoded data removed]"
          },
          "metadata": {}
        }
      ]
    },
    {
      "cell_type": "markdown",
      "metadata": {
        "id": "2qf7GN1aeXJI"
      },
      "source": [
        "# 6 Experiments and results\n",
        "**Class 0 - Deceptive**\n",
        "**Precision:** 0.53 — 53% of the instances predicted as Deceptive (0) are correctly identified.\n",
        "\n",
        "**Recall:** 0.79 — 79% of the actual Deceptive stories are correctly identified by the model.\n",
        "\n",
        "**F1-Score:** 0.63 — A reasonable balance between precision and recall for Deceptive stories.\n",
        "\n",
        "\n",
        "**Class 1 - True**\n",
        "**Precision:** 0.68 — 68% of the instances predicted as True (1) are correctly identified.\n",
        "\n",
        "**Recall:** 0.38 — Only 38% of the actual True stories are correctly classified, indicating that many True stories are missed.\n",
        "\n",
        "**F1-Score:** 0.49 — A lower F1-score for True stories indicates that the model struggles more with detecting True stories.\n",
        "\n",
        "**Overall Accuracy: 0.57**\n",
        "\n"
      ]
    },
    {
      "cell_type": "markdown",
      "source": [
        "#### KNN"
      ],
      "metadata": {
        "id": "_MThutirBdBF"
      }
    },
    {
      "cell_type": "markdown",
      "source": [
        "#### Train Data Results\n"
      ],
      "metadata": {
        "id": "IKzq0b9qpV0l"
      }
    },
    {
      "cell_type": "code",
      "source": [
        "from sklearn.metrics import classification_report, confusion_matrix\n",
        "train_classification_report = classification_report(y_train, knn.predict(X_train))\n",
        "print(\"Train Classification Report of KNN:\\n\", train_classification_report)\n",
        "\n",
        "# Confusion Matrix\n",
        "cm = confusion_matrix(y_train, knn.predict(X_train))\n",
        "print(\"Confusion Matrix of KNN:\\n\", cm)"
      ],
      "metadata": {
        "colab": {
          "base_uri": "https://localhost:8080/"
        },
        "id": "qvpzaBaSBk6q",
        "outputId": "fcf39e39-3e51-4c9f-f419-910e3700e0bd"
      },
      "execution_count": 405,
      "outputs": [
        {
          "output_type": "stream",
          "name": "stdout",
          "text": [
            "Train Classification Report of KNN:\n",
            "               precision    recall  f1-score   support\n",
            "\n",
            "           0       0.70      1.00      0.83       162\n",
            "           1       1.00      0.61      0.76       174\n",
            "\n",
            "    accuracy                           0.80       336\n",
            "   macro avg       0.85      0.80      0.79       336\n",
            "weighted avg       0.86      0.80      0.79       336\n",
            "\n",
            "Confusion Matrix of KNN:\n",
            " [[162   0]\n",
            " [ 68 106]]\n"
          ]
        }
      ]
    },
    {
      "cell_type": "markdown",
      "source": [
        "#### Test Data Results"
      ],
      "metadata": {
        "id": "16blS4fOpa0J"
      }
    },
    {
      "cell_type": "code",
      "source": [
        "test_classification_report = classification_report(y_test, knn.predict(X_test))\n",
        "print(\"Test Classification Report of KNN:\\n\", test_classification_report)\n",
        "cm = confusion_matrix(y_test, knn.predict(X_test))\n",
        "print(\"Confusion Matrix of KNN:\\n\", cm)"
      ],
      "metadata": {
        "colab": {
          "base_uri": "https://localhost:8080/"
        },
        "id": "8oskXTHypjWW",
        "outputId": "ddb2bd98-e87b-4746-a44d-5fb9432129bc"
      },
      "execution_count": 406,
      "outputs": [
        {
          "output_type": "stream",
          "name": "stdout",
          "text": [
            "Test Classification Report of KNN:\n",
            "               precision    recall  f1-score   support\n",
            "\n",
            "           0       0.53      0.79      0.63        39\n",
            "           1       0.68      0.38      0.49        45\n",
            "\n",
            "    accuracy                           0.57        84\n",
            "   macro avg       0.60      0.59      0.56        84\n",
            "weighted avg       0.61      0.57      0.55        84\n",
            "\n",
            "Confusion Matrix of KNN:\n",
            " [[31  8]\n",
            " [28 17]]\n"
          ]
        },
        {
          "output_type": "stream",
          "name": "stderr",
          "text": [
            "/usr/local/lib/python3.10/dist-packages/ipykernel/ipkernel.py:283: DeprecationWarning: `should_run_async` will not call `transform_cell` automatically in the future. Please pass the result to `transformed_cell` argument and any exception that happen during thetransform in `preprocessing_exc_tuple` in IPython 7.17 and above.\n"
          ]
        }
      ]
    },
    {
      "cell_type": "markdown",
      "source": [
        "Confusion Matrix\n",
        "True Positives (TP): 31\n",
        "\n",
        "True Negatives (TN): 17\n",
        "\n",
        "False Positives (FP): 8\n",
        "\n",
        "False Negatives (FN): 28"
      ],
      "metadata": {
        "id": "uk9sJDMk01iv"
      }
    },
    {
      "cell_type": "code",
      "source": [
        "from sklearn.metrics import roc_auc_score\n",
        "y_pred_probability = knn.predict_proba(X_test)[:, 1]\n",
        "roc_auc = roc_auc_score(y_test, y_pred_probability )\n",
        "print(f\"ROC AUC Score: {roc_auc}\")"
      ],
      "metadata": {
        "colab": {
          "base_uri": "https://localhost:8080/"
        },
        "id": "ZwPOn9YKsUJG",
        "outputId": "d4d6154a-a481-4678-bc42-99b9b43ddbfc"
      },
      "execution_count": 407,
      "outputs": [
        {
          "output_type": "stream",
          "name": "stdout",
          "text": [
            "ROC AUC Score: 0.6008547008547009\n"
          ]
        },
        {
          "output_type": "stream",
          "name": "stderr",
          "text": [
            "/usr/local/lib/python3.10/dist-packages/ipykernel/ipkernel.py:283: DeprecationWarning: `should_run_async` will not call `transform_cell` automatically in the future. Please pass the result to `transformed_cell` argument and any exception that happen during thetransform in `preprocessing_exc_tuple` in IPython 7.17 and above.\n"
          ]
        }
      ]
    },
    {
      "cell_type": "markdown",
      "source": [
        "ROC AUC score of 0.60 indicates that the model's performance is moderate and slightly better than random guessing.\n",
        "Exploring additional techniques like feature engineering, model selection potentially imporove overall model performance."
      ],
      "metadata": {
        "id": "7KY1hD6Ly54n"
      }
    },
    {
      "cell_type": "markdown",
      "metadata": {
        "id": "fSrJCR_cekPO"
      },
      "source": [
        "# 7 Conclusions\n",
        "Real world datasets are typically more complex, which means even well-balanced datasets can present difficulties for models to generalize effectively.\n",
        "KNN ,Random Forests, SVM may not be the best model for this task, particularly with complex real-world data.\n",
        "\n",
        "Neural Networks can be considered which can handle non-linear relationships and complex data patterns better than above used models.\n",
        "\n",
        "Advance features extraction and advance feature engineering can help to improve model performance.\n",
        "Your conclusions, suggestions for improvements, etc should go here."
      ]
    },
    {
      "cell_type": "markdown",
      "metadata": {
        "id": "eX_nPlrTQez-"
      },
      "source": [
        "# 8 References\n",
        "Used these library for testing different hyperparamters\n",
        "##### RandomForestClassifier\n",
        "https://scikit-learn.org/1.5/modules/generated/sklearn.ensemble.RandomForestClassifier.html\n",
        "\n",
        "##### Support Vector Classifier\n",
        "\n",
        "https://scikit-learn.org/dev/modules/generated/sklearn.svm.SVC.html\n",
        "\n",
        "\n",
        "##### ZCR Features\n",
        "https://www.sciencedirect.com/science/article/pii/S0003682X19308795?fr=RR-2&ref=pdf_download&rr=8edcd9c0eab8952d\n",
        "\n",
        "##### Google colab code generates is used for generating code for chunking part"
      ]
    }
  ],
  "metadata": {
    "colab": {
      "provenance": []
    },
    "kernelspec": {
      "display_name": "Python 3 (ipykernel)",
      "language": "python",
      "name": "python3"
    },
    "language_info": {
      "codemirror_mode": {
        "name": "ipython",
        "version": 3
      },
      "file_extension": ".py",
      "mimetype": "text/x-python",
      "name": "python",
      "nbconvert_exporter": "python",
      "pygments_lexer": "ipython3",
      "version": "3.10.9"
    }
  },
  "nbformat": 4,
  "nbformat_minor": 0
}
